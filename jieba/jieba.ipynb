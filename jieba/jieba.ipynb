{
 "cells": [
  {
   "cell_type": "code",
   "execution_count": 20,
   "metadata": {
    "collapsed": true
   },
   "outputs": [],
   "source": [
    "import jieba.analyse"
   ]
  },
  {
   "cell_type": "code",
   "execution_count": 3,
   "metadata": {},
   "outputs": [
    {
     "name": "stderr",
     "output_type": "stream",
     "text": [
      "Building prefix dict from the default dictionary ...\n"
     ]
    },
    {
     "name": "stderr",
     "output_type": "stream",
     "text": [
      "Loading model from cache /var/folders/00/m1hgx1hs1nj1s2tj6l7xfhd80000gn/T/jieba.cache\n"
     ]
    },
    {
     "name": "stderr",
     "output_type": "stream",
     "text": [
      "Loading model cost 0.711 seconds.\n"
     ]
    },
    {
     "name": "stderr",
     "output_type": "stream",
     "text": [
      "Prefix dict has been built succesfully.\n"
     ]
    },
    {
     "name": "stdout",
     "output_type": "stream",
     "text": [
      "我/来到/北京/清华大学\n"
     ]
    }
   ],
   "source": [
    "seg_list = jieba.cut(\"我来到北京清华大学\")\n",
    "print('/'.join(seg_list))"
   ]
  },
  {
   "cell_type": "code",
   "execution_count": 8,
   "metadata": {},
   "outputs": [
    {
     "name": "stdout",
     "output_type": "stream",
     "text": [
      "full_mode: 我/来到/北京/清华/清华大学/华大/大学\n"
     ]
    }
   ],
   "source": [
    "seg_full_list = jieba.cut(\"我来到北京清华大学\", cut_all=True)\n",
    "print(\"full_mode: \" + '/'.join(seg_full_list))"
   ]
  },
  {
   "cell_type": "code",
   "execution_count": 9,
   "metadata": {},
   "outputs": [
    {
     "name": "stdout",
     "output_type": "stream",
     "text": [
      "Search mode 小明/硕士/毕业/于/中国/科学/学院/科学院/中国科学院/计算/计算所/，/后/在/日本/京都/大学/日本京都大学/深造\n"
     ]
    }
   ],
   "source": [
    "seg_list = jieba.cut_for_search(\"小明硕士毕业于中国科学院计算所，后在日本京都大学深造\")\n",
    "print(\"Search mode\", '/'.join(seg_list))"
   ]
  },
  {
   "cell_type": "code",
   "execution_count": 11,
   "metadata": {},
   "outputs": [
    {
     "name": "stdout",
     "output_type": "stream",
     "text": [
      "李小福/是/创新办/也/是/云计算/方面/的/专家\n"
     ]
    }
   ],
   "source": [
    "jieba.load_userdict('my_dict')\n",
    "seg_list = jieba.cut(\"李小福是创新办也是云计算方面的专家\")\n",
    "print('/'.join(seg_list))\n"
   ]
  },
  {
   "cell_type": "code",
   "execution_count": 13,
   "metadata": {},
   "outputs": [
    {
     "name": "stdout",
     "output_type": "stream",
     "text": [
      "如果/放到/post/中将/出错/。\n"
     ]
    }
   ],
   "source": [
    "print('/'.join(jieba.cut(\"如果放到post中将出错。\", HMM=False)))"
   ]
  },
  {
   "cell_type": "code",
   "execution_count": 14,
   "metadata": {},
   "outputs": [
    {
     "data": {
      "text/plain": [
       "494"
      ]
     },
     "execution_count": 14,
     "metadata": {},
     "output_type": "execute_result"
    }
   ],
   "source": [
    "jieba.suggest_freq(('中','将'), True)\n"
   ]
  },
  {
   "cell_type": "code",
   "execution_count": 15,
   "metadata": {},
   "outputs": [
    {
     "name": "stdout",
     "output_type": "stream",
     "text": [
      "如果/放到/post/中/将/出错/。\n"
     ]
    }
   ],
   "source": [
    "print('/'.join(jieba.cut(\"如果放到post中将出错。\", HMM=False)))"
   ]
  },
  {
   "cell_type": "code",
   "execution_count": 16,
   "metadata": {},
   "outputs": [
    {
     "name": "stdout",
     "output_type": "stream",
     "text": [
      "如果/放到/post/中/将/出错/。\n"
     ]
    }
   ],
   "source": [
    "print('/'.join(jieba.cut(\"如果放到post中将出错。\", HMM=True)))"
   ]
  },
  {
   "cell_type": "code",
   "execution_count": 21,
   "metadata": {},
   "outputs": [
    {
     "name": "stdout",
     "output_type": "stream",
     "text": [
      "欧亚, 0.7300142700289363\n吉林, 0.659038184373617\n置业, 0.4887134522112766\n万元, 0.3392722481859574\n增资, 0.33582401985234045\n4.3, 0.25435675538085106\n7000, 0.25435675538085106\n2013, 0.25435675538085106\n139.13, 0.25435675538085106\n实现, 0.19900979900382978\n综合体, 0.19480309624702127\n经营范围, 0.19389757253595744\n亿元, 0.1914421623587234\n在建, 0.17541884768425534\n全资, 0.17180164988510638\n注册资本, 0.1712441526\n百货, 0.16734460041382979\n零售, 0.1475057117057447\n子公司, 0.14596045237787234\n营业, 0.13920178509021275\n"
     ]
    }
   ],
   "source": [
    "s = \"此外，公司拟对全资子公司吉林欧亚置业有限公司增资4.3亿元，增资后，吉林欧亚置业注册资本由7000万元增加到5亿元。吉林欧亚置业主要经营范围为房地产开发及百货零售等业务。目前在建吉林欧亚城市商业综合体项目。2013年，实现营业收入0万元，实现净利润-139.13万元。\"\n",
    "\n",
    "for x, w in jieba.analyse.extract_tags(s, withWeight=True):\n",
    "    print(\"%s, %s\" % (x, w))"
   ]
  },
  {
   "cell_type": "code",
   "execution_count": 22,
   "metadata": {},
   "outputs": [
    {
     "name": "stdout",
     "output_type": "stream",
     "text": [
      "吉林, 1.0\n欧亚, 0.9966893354178172\n置业, 0.6434360313092776\n实现, 0.5898606692859626\n收入, 0.43677859947991454\n增资, 0.4099900531283276\n子公司, 0.35678295947672795\n城市, 0.34971383667403655\n商业, 0.34817220716026936\n业务, 0.3092230992619838\n在建, 0.3077929164033088\n营业, 0.3035777049319588\n全资, 0.303540981053475\n综合体, 0.29580869172394825\n注册资本, 0.29000519464085045\n有限公司, 0.2807830798576574\n零售, 0.27883620861218145\n百货, 0.2781657628445476\n开发, 0.2693488779295851\n经营范围, 0.2642762173558316\n"
     ]
    }
   ],
   "source": [
    "for x, w in jieba.analyse.textrank(s, withWeight=True):\n",
    "    print(\"%s, %s\" % (x, w))"
   ]
  },
  {
   "cell_type": "code",
   "execution_count": 24,
   "metadata": {},
   "outputs": [
    {
     "name": "stdout",
     "output_type": "stream",
     "text": [
      "我 r\n爱 v\n北京 ns\n天安门 ns\n"
     ]
    }
   ],
   "source": [
    "words = jieba.posseg.cut(\"我爱北京天安门\")\n",
    "for word, flag in words:\n",
    "    print(word, flag)"
   ]
  },
  {
   "cell_type": "code",
   "execution_count": 28,
   "metadata": {},
   "outputs": [],
   "source": [
    "result = jieba.tokenize(\"永和服装饰品有限公司\")\n"
   ]
  },
  {
   "cell_type": "code",
   "execution_count": 29,
   "metadata": {},
   "outputs": [
    {
     "name": "stdout",
     "output_type": "stream",
     "text": [
      "('永和', 0, 2)\n('服装', 2, 4)\n('饰品', 4, 6)\n('有限', 6, 8)\n('公司', 8, 10)\n('有限公司', 6, 10)\n"
     ]
    }
   ],
   "source": [
    "result = jieba.tokenize(\"永和服装饰品有限公司\",mode='search')\n",
    "for tk in result:\n",
    "    print(tk)"
   ]
  },
  {
   "cell_type": "code",
   "execution_count": null,
   "metadata": {},
   "outputs": [],
   "source": []
  }
 ],
 "metadata": {
  "kernelspec": {
   "display_name": "Python 2",
   "language": "python",
   "name": "python2"
  },
  "language_info": {
   "codemirror_mode": {
    "name": "ipython",
    "version": 2
   },
   "file_extension": ".py",
   "mimetype": "text/x-python",
   "name": "python",
   "nbconvert_exporter": "python",
   "pygments_lexer": "ipython2",
   "version": "2.7.6"
  }
 },
 "nbformat": 4,
 "nbformat_minor": 0
}
