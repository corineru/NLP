{
 "cells": [
  {
   "cell_type": "code",
   "execution_count": 1,
   "metadata": {
    "collapsed": true
   },
   "outputs": [],
   "source": [
    "from sklearn.feature_extraction.text import TfidfTransformer\n",
    "from sklearn.feature_extraction.text import CountVectorizer\n",
    "\n"
   ]
  },
  {
   "cell_type": "code",
   "execution_count": 3,
   "metadata": {},
   "outputs": [
    {
     "name": "stdout",
     "output_type": "stream",
     "text": [
      "  (0, 4)\t0.442462137895\n  (0, 15)\t0.697684463384\n  (0, 3)\t0.348842231692\n  (0, 16)\t0.442462137895\n  (1, 3)\t0.357455043342\n  (1, 14)\t0.453386397373\n  (1, 6)\t0.357455043342\n  (1, 2)\t0.453386397373\n  (1, 9)\t0.453386397373\n  (1, 5)\t0.357455043342\n  (2, 7)\t0.5\n  (2, 12)\t0.5\n  (2, 0)\t0.5\n  (2, 1)\t0.5\n  (3, 15)\t0.281131628441\n  (3, 6)\t0.281131628441\n  (3, 5)\t0.281131628441\n  (3, 13)\t0.356579823338\n  (3, 17)\t0.356579823338\n  (3, 18)\t0.356579823338\n  (3, 11)\t0.356579823338\n  (3, 8)\t0.356579823338\n  (3, 10)\t0.356579823338\n"
     ]
    }
   ],
   "source": [
    "# 语料文本\n",
    "corpus=[\"I come to China to travel\", \n",
    "    \"This is a car polupar in China\",          \n",
    "    \"I love tea and Apple \",   \n",
    "    \"The work is to write some papers in science\"]\n",
    "\n",
    "transformer = TfidfTransformer()\n",
    "vectorizer = CountVectorizer()\n",
    "tfidf = transformer.fit_transform(vectorizer.fit_transform(corpus))\n",
    "print(tfidf)"
   ]
  },
  {
   "cell_type": "code",
   "execution_count": 4,
   "metadata": {},
   "outputs": [
    {
     "name": "stdout",
     "output_type": "stream",
     "text": [
      "  (0, 4)\t0.442462137895\n  (0, 15)\t0.697684463384\n  (0, 3)\t0.348842231692\n  (0, 16)\t0.442462137895\n  (1, 3)\t0.357455043342\n  (1, 14)\t0.453386397373\n  (1, 6)\t0.357455043342\n  (1, 2)\t0.453386397373\n  (1, 9)\t0.453386397373\n  (1, 5)\t0.357455043342\n  (2, 7)\t0.5\n  (2, 12)\t0.5\n  (2, 0)\t0.5\n  (2, 1)\t0.5\n  (3, 15)\t0.281131628441\n  (3, 6)\t0.281131628441\n  (3, 5)\t0.281131628441\n  (3, 13)\t0.356579823338\n  (3, 17)\t0.356579823338\n  (3, 18)\t0.356579823338\n  (3, 11)\t0.356579823338\n  (3, 8)\t0.356579823338\n  (3, 10)\t0.356579823338\n"
     ]
    }
   ],
   "source": [
    "from sklearn.feature_extraction.text import TfidfVectorizer\n",
    "\n",
    "tfidf2 = TfidfVectorizer()\n",
    "re = tfidf2.fit_transform(corpus)\n",
    "print(re)"
   ]
  },
  {
   "cell_type": "code",
   "execution_count": 5,
   "metadata": {},
   "outputs": [
    {
     "name": "stdout",
     "output_type": "stream",
     "text": [
      "['and', 'apple', 'car', 'china', 'come', 'in', 'is', 'love', 'papers', 'polupar', 'science', 'some', 'tea', 'the', 'this', 'to', 'travel', 'work', 'write']\n"
     ]
    }
   ],
   "source": [
    "print(tfidf2.get_feature_names())"
   ]
  },
  {
   "cell_type": "code",
   "execution_count": 4,
   "metadata": {},
   "outputs": [],
   "source": [
    ""
   ]
  },
  {
   "cell_type": "code",
   "execution_count": null,
   "metadata": {},
   "outputs": [],
   "source": []
  }
 ],
 "metadata": {
  "kernelspec": {
   "display_name": "Python 2",
   "language": "python",
   "name": "python2"
  },
  "language_info": {
   "codemirror_mode": {
    "name": "ipython",
    "version": 2
   },
   "file_extension": ".py",
   "mimetype": "text/x-python",
   "name": "python",
   "nbconvert_exporter": "python",
   "pygments_lexer": "ipython2",
   "version": "2.7.6"
  }
 },
 "nbformat": 4,
 "nbformat_minor": 0
}
