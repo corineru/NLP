{
 "cells": [
  {
   "cell_type": "code",
   "execution_count": 1,
   "metadata": {
    "collapsed": true
   },
   "outputs": [],
   "source": [
    "from sklearn.feature_extraction.text import CountVectorizer"
   ]
  },
  {
   "cell_type": "code",
   "execution_count": 3,
   "metadata": {},
   "outputs": [
    {
     "name": "stdout",
     "output_type": "stream",
     "text": [
      "  (0, 16)\t1\n  (0, 3)\t1\n  (0, 15)\t2\n  (0, 4)\t1\n  (1, 5)\t1\n  (1, 9)\t1\n  (1, 2)\t1\n  (1, 6)\t1\n  (1, 14)\t1\n  (1, 3)\t1\n  (2, 1)\t1\n  (2, 0)\t1\n  (2, 12)\t1\n  (2, 7)\t1\n  (3, 10)\t1\n  (3, 8)\t1\n  (3, 11)\t1\n  (3, 18)\t1\n  (3, 17)\t1\n  (3, 13)\t1\n  (3, 5)\t1\n  (3, 6)\t1\n  (3, 15)\t1\n"
     ]
    }
   ],
   "source": [
    "vectorizer = CountVectorizer()\n",
    "corpus = [\"I come to China to travel\", \n",
    "    \"This is a car polupar in China\",          \n",
    "    \"I love tea and Apple \",   \n",
    "    \"The work is to write some papers in science\"] \n",
    "print(vectorizer.fit_transform(corpus))"
   ]
  },
  {
   "cell_type": "code",
   "execution_count": 4,
   "metadata": {},
   "outputs": [
    {
     "name": "stdout",
     "output_type": "stream",
     "text": [
      "[[0 0 0 1 1 0 0 0 0 0 0 0 0 0 0 2 1 0 0]\n [0 0 1 1 0 1 1 0 0 1 0 0 0 0 1 0 0 0 0]\n [1 1 0 0 0 0 0 1 0 0 0 0 1 0 0 0 0 0 0]\n [0 0 0 0 0 1 1 0 1 0 1 1 0 1 0 1 0 1 1]]\n['and', 'apple', 'car', 'china', 'come', 'in', 'is', 'love', 'papers', 'polupar', 'science', 'some', 'tea', 'the', 'this', 'to', 'travel', 'work', 'write']\n"
     ]
    }
   ],
   "source": [
    "print(vectorizer.fit_transform(corpus).toarray())\n",
    "print(vectorizer.get_feature_names())"
   ]
  },
  {
   "cell_type": "code",
   "execution_count": 5,
   "metadata": {},
   "outputs": [
    {
     "name": "stdout",
     "output_type": "stream",
     "text": [
      "  (0, 1)\t2.0\n  (0, 2)\t-1.0\n  (0, 4)\t1.0\n  (0, 5)\t-1.0\n  (1, 0)\t1.0\n  (1, 1)\t1.0\n  (1, 2)\t-1.0\n  (1, 5)\t-1.0\n  (2, 0)\t2.0\n  (2, 5)\t-2.0\n  (3, 0)\t0.0\n  (3, 1)\t4.0\n  (3, 2)\t-1.0\n  (3, 3)\t1.0\n  (3, 5)\t-1.0\n"
     ]
    }
   ],
   "source": [
    "from sklearn.feature_extraction.text import HashingVectorizer\n",
    "vectorizer2 = HashingVectorizer(n_features=6, norm=None)\n",
    "print(vectorizer2.fit_transform(corpus))"
   ]
  },
  {
   "cell_type": "code",
   "execution_count": null,
   "metadata": {},
   "outputs": [],
   "source": []
  }
 ],
 "metadata": {
  "kernelspec": {
   "display_name": "Python 2",
   "language": "python",
   "name": "python2"
  },
  "language_info": {
   "codemirror_mode": {
    "name": "ipython",
    "version": 2
   },
   "file_extension": ".py",
   "mimetype": "text/x-python",
   "name": "python",
   "nbconvert_exporter": "python",
   "pygments_lexer": "ipython2",
   "version": "2.7.6"
  }
 },
 "nbformat": 4,
 "nbformat_minor": 0
}
